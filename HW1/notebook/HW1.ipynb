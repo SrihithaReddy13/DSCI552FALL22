{
 "cells": [
  {
   "cell_type": "code",
   "execution_count": 287,
   "id": "7c10c0d9",
   "metadata": {},
   "outputs": [],
   "source": [
    "import pandas as pd\n",
    "from io import StringIO\n",
    "import seaborn as sns\n",
    "import matplotlib.pyplot as plt\n",
    "from sklearn.neighbors import KNeighborsClassifier \n",
    "from sklearn.metrics import *\n",
    "import numpy as np\n",
    "import math"
   ]
  },
  {
   "cell_type": "markdown",
   "id": "258aceae",
   "metadata": {},
   "source": [
    "## Reading the data and cleaning up"
   ]
  },
  {
   "cell_type": "code",
   "execution_count": 193,
   "id": "0a0260d4",
   "metadata": {},
   "outputs": [],
   "source": [
    "dummy=pd.read_fwf('../data/vertebral_column_data/column_2C.dat',names=['vals'])"
   ]
  },
  {
   "cell_type": "code",
   "execution_count": 194,
   "id": "7408c97a",
   "metadata": {},
   "outputs": [],
   "source": [
    "df = dummy['vals'].str.split(' ', expand=True)"
   ]
  },
  {
   "cell_type": "code",
   "execution_count": 195,
   "id": "0b815a78",
   "metadata": {},
   "outputs": [
    {
     "data": {
      "text/html": [
       "<div>\n",
       "<style scoped>\n",
       "    .dataframe tbody tr th:only-of-type {\n",
       "        vertical-align: middle;\n",
       "    }\n",
       "\n",
       "    .dataframe tbody tr th {\n",
       "        vertical-align: top;\n",
       "    }\n",
       "\n",
       "    .dataframe thead th {\n",
       "        text-align: right;\n",
       "    }\n",
       "</style>\n",
       "<table border=\"1\" class=\"dataframe\">\n",
       "  <thead>\n",
       "    <tr style=\"text-align: right;\">\n",
       "      <th></th>\n",
       "      <th>PI</th>\n",
       "      <th>PT</th>\n",
       "      <th>LLA</th>\n",
       "      <th>SS</th>\n",
       "      <th>PR</th>\n",
       "      <th>GOS</th>\n",
       "      <th>class</th>\n",
       "    </tr>\n",
       "  </thead>\n",
       "  <tbody>\n",
       "    <tr>\n",
       "      <th>0</th>\n",
       "      <td>63.03</td>\n",
       "      <td>22.55</td>\n",
       "      <td>39.61</td>\n",
       "      <td>40.48</td>\n",
       "      <td>98.67</td>\n",
       "      <td>-0.25</td>\n",
       "      <td>AB</td>\n",
       "    </tr>\n",
       "    <tr>\n",
       "      <th>1</th>\n",
       "      <td>39.06</td>\n",
       "      <td>10.06</td>\n",
       "      <td>25.02</td>\n",
       "      <td>29</td>\n",
       "      <td>114.41</td>\n",
       "      <td>4.56</td>\n",
       "      <td>AB</td>\n",
       "    </tr>\n",
       "    <tr>\n",
       "      <th>2</th>\n",
       "      <td>68.83</td>\n",
       "      <td>22.22</td>\n",
       "      <td>50.09</td>\n",
       "      <td>46.61</td>\n",
       "      <td>105.99</td>\n",
       "      <td>-3.53</td>\n",
       "      <td>AB</td>\n",
       "    </tr>\n",
       "    <tr>\n",
       "      <th>3</th>\n",
       "      <td>69.3</td>\n",
       "      <td>24.65</td>\n",
       "      <td>44.31</td>\n",
       "      <td>44.64</td>\n",
       "      <td>101.87</td>\n",
       "      <td>11.21</td>\n",
       "      <td>AB</td>\n",
       "    </tr>\n",
       "    <tr>\n",
       "      <th>4</th>\n",
       "      <td>49.71</td>\n",
       "      <td>9.65</td>\n",
       "      <td>28.32</td>\n",
       "      <td>40.06</td>\n",
       "      <td>108.17</td>\n",
       "      <td>7.92</td>\n",
       "      <td>AB</td>\n",
       "    </tr>\n",
       "  </tbody>\n",
       "</table>\n",
       "</div>"
      ],
      "text/plain": [
       "      PI     PT    LLA     SS      PR    GOS class\n",
       "0  63.03  22.55  39.61  40.48   98.67  -0.25    AB\n",
       "1  39.06  10.06  25.02     29  114.41   4.56    AB\n",
       "2  68.83  22.22  50.09  46.61  105.99  -3.53    AB\n",
       "3   69.3  24.65  44.31  44.64  101.87  11.21    AB\n",
       "4  49.71   9.65  28.32  40.06  108.17   7.92    AB"
      ]
     },
     "execution_count": 195,
     "metadata": {},
     "output_type": "execute_result"
    }
   ],
   "source": [
    "df=df.rename(columns={0:'PI', 1:'PT', 2:'LLA', 3:'SS', 4:'PR', 5:'GOS',6:'class'})\n",
    "df.head()"
   ]
  },
  {
   "cell_type": "code",
   "execution_count": 196,
   "id": "4bccb549",
   "metadata": {},
   "outputs": [
    {
     "data": {
      "text/plain": [
       "array(['AB', 'A', 'NO'], dtype=object)"
      ]
     },
     "execution_count": 196,
     "metadata": {},
     "output_type": "execute_result"
    }
   ],
   "source": [
    "df['class'].unique()"
   ]
  },
  {
   "cell_type": "code",
   "execution_count": 197,
   "id": "035af3a8",
   "metadata": {},
   "outputs": [
    {
     "data": {
      "text/html": [
       "<div>\n",
       "<style scoped>\n",
       "    .dataframe tbody tr th:only-of-type {\n",
       "        vertical-align: middle;\n",
       "    }\n",
       "\n",
       "    .dataframe tbody tr th {\n",
       "        vertical-align: top;\n",
       "    }\n",
       "\n",
       "    .dataframe thead th {\n",
       "        text-align: right;\n",
       "    }\n",
       "</style>\n",
       "<table border=\"1\" class=\"dataframe\">\n",
       "  <thead>\n",
       "    <tr style=\"text-align: right;\">\n",
       "      <th></th>\n",
       "      <th>PI</th>\n",
       "      <th>PT</th>\n",
       "      <th>LLA</th>\n",
       "      <th>SS</th>\n",
       "      <th>PR</th>\n",
       "      <th>GOS</th>\n",
       "      <th>class</th>\n",
       "    </tr>\n",
       "  </thead>\n",
       "  <tbody>\n",
       "    <tr>\n",
       "      <th>197</th>\n",
       "      <td>58.83</td>\n",
       "      <td>37.58</td>\n",
       "      <td>125.74</td>\n",
       "      <td>21.25</td>\n",
       "      <td>135.63</td>\n",
       "      <td>117.31</td>\n",
       "      <td>A</td>\n",
       "    </tr>\n",
       "  </tbody>\n",
       "</table>\n",
       "</div>"
      ],
      "text/plain": [
       "        PI     PT     LLA     SS      PR     GOS class\n",
       "197  58.83  37.58  125.74  21.25  135.63  117.31     A"
      ]
     },
     "execution_count": 197,
     "metadata": {},
     "output_type": "execute_result"
    }
   ],
   "source": [
    "df[df['class']=='A']"
   ]
  },
  {
   "cell_type": "code",
   "execution_count": 198,
   "id": "f606e5bc",
   "metadata": {},
   "outputs": [],
   "source": [
    "df=df.drop(197)"
   ]
  },
  {
   "cell_type": "code",
   "execution_count": 199,
   "id": "ed0c1f4f",
   "metadata": {},
   "outputs": [
    {
     "data": {
      "text/plain": [
       "array(['AB', 'NO'], dtype=object)"
      ]
     },
     "execution_count": 199,
     "metadata": {},
     "output_type": "execute_result"
    }
   ],
   "source": [
    "df['class'].unique()"
   ]
  },
  {
   "cell_type": "code",
   "execution_count": 200,
   "id": "bd096a39",
   "metadata": {},
   "outputs": [],
   "source": [
    "df['class']=df['class'].replace({'AB':1,'NO':0})"
   ]
  },
  {
   "cell_type": "code",
   "execution_count": 201,
   "id": "f35cb80a",
   "metadata": {},
   "outputs": [],
   "source": [
    "df['PI']=df['PI'].astype(str).astype(float)\n",
    "df['PT']=df['PT'].astype(str).astype(float)\n",
    "df['LLA']=df['LLA'].astype(str).astype(float)\n",
    "df['SS']=df['SS'].astype(str).astype(float)\n",
    "df['PR']=df['PR'].astype(str).astype(float)\n",
    "df['GOS']=df['GOS'].astype(str).astype(float)\n"
   ]
  },
  {
   "cell_type": "code",
   "execution_count": 202,
   "id": "e22470a5",
   "metadata": {},
   "outputs": [],
   "source": [
    "#Y=df['class']\n",
    "#Y.head()"
   ]
  },
  {
   "cell_type": "code",
   "execution_count": 203,
   "id": "26b264eb",
   "metadata": {},
   "outputs": [],
   "source": [
    "#df.drop('class',axis=1,inplace=True)"
   ]
  },
  {
   "cell_type": "code",
   "execution_count": 220,
   "id": "da5fe0f7",
   "metadata": {},
   "outputs": [
    {
     "data": {
      "text/html": [
       "<div>\n",
       "<style scoped>\n",
       "    .dataframe tbody tr th:only-of-type {\n",
       "        vertical-align: middle;\n",
       "    }\n",
       "\n",
       "    .dataframe tbody tr th {\n",
       "        vertical-align: top;\n",
       "    }\n",
       "\n",
       "    .dataframe thead th {\n",
       "        text-align: right;\n",
       "    }\n",
       "</style>\n",
       "<table border=\"1\" class=\"dataframe\">\n",
       "  <thead>\n",
       "    <tr style=\"text-align: right;\">\n",
       "      <th></th>\n",
       "      <th>PI</th>\n",
       "      <th>PT</th>\n",
       "      <th>LLA</th>\n",
       "      <th>SS</th>\n",
       "      <th>PR</th>\n",
       "      <th>GOS</th>\n",
       "      <th>class</th>\n",
       "    </tr>\n",
       "  </thead>\n",
       "  <tbody>\n",
       "    <tr>\n",
       "      <th>0</th>\n",
       "      <td>63.03</td>\n",
       "      <td>22.55</td>\n",
       "      <td>39.61</td>\n",
       "      <td>40.48</td>\n",
       "      <td>98.67</td>\n",
       "      <td>-0.25</td>\n",
       "      <td>1</td>\n",
       "    </tr>\n",
       "    <tr>\n",
       "      <th>1</th>\n",
       "      <td>39.06</td>\n",
       "      <td>10.06</td>\n",
       "      <td>25.02</td>\n",
       "      <td>29.00</td>\n",
       "      <td>114.41</td>\n",
       "      <td>4.56</td>\n",
       "      <td>1</td>\n",
       "    </tr>\n",
       "    <tr>\n",
       "      <th>2</th>\n",
       "      <td>68.83</td>\n",
       "      <td>22.22</td>\n",
       "      <td>50.09</td>\n",
       "      <td>46.61</td>\n",
       "      <td>105.99</td>\n",
       "      <td>-3.53</td>\n",
       "      <td>1</td>\n",
       "    </tr>\n",
       "    <tr>\n",
       "      <th>3</th>\n",
       "      <td>69.30</td>\n",
       "      <td>24.65</td>\n",
       "      <td>44.31</td>\n",
       "      <td>44.64</td>\n",
       "      <td>101.87</td>\n",
       "      <td>11.21</td>\n",
       "      <td>1</td>\n",
       "    </tr>\n",
       "    <tr>\n",
       "      <th>4</th>\n",
       "      <td>49.71</td>\n",
       "      <td>9.65</td>\n",
       "      <td>28.32</td>\n",
       "      <td>40.06</td>\n",
       "      <td>108.17</td>\n",
       "      <td>7.92</td>\n",
       "      <td>1</td>\n",
       "    </tr>\n",
       "    <tr>\n",
       "      <th>...</th>\n",
       "      <td>...</td>\n",
       "      <td>...</td>\n",
       "      <td>...</td>\n",
       "      <td>...</td>\n",
       "      <td>...</td>\n",
       "      <td>...</td>\n",
       "      <td>...</td>\n",
       "    </tr>\n",
       "    <tr>\n",
       "      <th>305</th>\n",
       "      <td>47.90</td>\n",
       "      <td>13.62</td>\n",
       "      <td>36.00</td>\n",
       "      <td>34.29</td>\n",
       "      <td>117.45</td>\n",
       "      <td>-4.25</td>\n",
       "      <td>0</td>\n",
       "    </tr>\n",
       "    <tr>\n",
       "      <th>306</th>\n",
       "      <td>53.94</td>\n",
       "      <td>20.72</td>\n",
       "      <td>29.22</td>\n",
       "      <td>33.22</td>\n",
       "      <td>114.37</td>\n",
       "      <td>-0.42</td>\n",
       "      <td>0</td>\n",
       "    </tr>\n",
       "    <tr>\n",
       "      <th>307</th>\n",
       "      <td>61.45</td>\n",
       "      <td>22.69</td>\n",
       "      <td>46.17</td>\n",
       "      <td>38.75</td>\n",
       "      <td>125.67</td>\n",
       "      <td>-2.71</td>\n",
       "      <td>0</td>\n",
       "    </tr>\n",
       "    <tr>\n",
       "      <th>308</th>\n",
       "      <td>45.25</td>\n",
       "      <td>8.69</td>\n",
       "      <td>41.58</td>\n",
       "      <td>36.56</td>\n",
       "      <td>118.55</td>\n",
       "      <td>0.21</td>\n",
       "      <td>0</td>\n",
       "    </tr>\n",
       "    <tr>\n",
       "      <th>309</th>\n",
       "      <td>33.84</td>\n",
       "      <td>5.07</td>\n",
       "      <td>36.64</td>\n",
       "      <td>28.77</td>\n",
       "      <td>123.95</td>\n",
       "      <td>-0.20</td>\n",
       "      <td>0</td>\n",
       "    </tr>\n",
       "  </tbody>\n",
       "</table>\n",
       "<p>309 rows × 7 columns</p>\n",
       "</div>"
      ],
      "text/plain": [
       "        PI     PT    LLA     SS      PR    GOS  class\n",
       "0    63.03  22.55  39.61  40.48   98.67  -0.25      1\n",
       "1    39.06  10.06  25.02  29.00  114.41   4.56      1\n",
       "2    68.83  22.22  50.09  46.61  105.99  -3.53      1\n",
       "3    69.30  24.65  44.31  44.64  101.87  11.21      1\n",
       "4    49.71   9.65  28.32  40.06  108.17   7.92      1\n",
       "..     ...    ...    ...    ...     ...    ...    ...\n",
       "305  47.90  13.62  36.00  34.29  117.45  -4.25      0\n",
       "306  53.94  20.72  29.22  33.22  114.37  -0.42      0\n",
       "307  61.45  22.69  46.17  38.75  125.67  -2.71      0\n",
       "308  45.25   8.69  41.58  36.56  118.55   0.21      0\n",
       "309  33.84   5.07  36.64  28.77  123.95  -0.20      0\n",
       "\n",
       "[309 rows x 7 columns]"
      ]
     },
     "execution_count": 220,
     "metadata": {},
     "output_type": "execute_result"
    }
   ],
   "source": [
    "df"
   ]
  },
  {
   "cell_type": "markdown",
   "id": "578ea5d6",
   "metadata": {},
   "source": [
    "## (b)(i) Scatterplots on independant variables"
   ]
  },
  {
   "cell_type": "code",
   "execution_count": 206,
   "id": "627f6191",
   "metadata": {},
   "outputs": [
    {
     "data": {
      "image/png": "[encoded data removed]",
      "text/plain": [
       "<Figure size 720x1440 with 6 Axes>"
      ]
     },
     "metadata": {
      "needs_background": "light"
     },
     "output_type": "display_data"
    }
   ],
   "source": [
    "fig, ax = plt.subplots(6,1,figsize=(10,20))\n",
    "i=0\n",
    "for col in df.columns[:-1]:\n",
    "    sns.scatterplot(data=df, x=col, y='class', ax=ax[i], hue=Y, x_bins=10)\n",
    "    i+=1\n",
    "plt.show()"
   ]
  },
  {
   "cell_type": "markdown",
   "id": "3c6e3d57",
   "metadata": {},
   "source": [
    "## (b)(ii) boxplots on independant variables"
   ]
  },
  {
   "cell_type": "code",
   "execution_count": 207,
   "id": "e4a779fb",
   "metadata": {},
   "outputs": [
    {
     "data": {
      "image/png": "[encoded data removed]",
      "text/plain": [
       "<Figure size 720x1440 with 6 Axes>"
      ]
     },
     "metadata": {
      "needs_background": "light"
     },
     "output_type": "display_data"
    }
   ],
   "source": [
    "fig, ax = plt.subplots(6,1,figsize=(10,20))\n",
    "i=0\n",
    "for col in df.columns[:-1]:\n",
    "    sns.boxplot(data=df, y=col, x='class', ax=ax[i], hue=Y)\n",
    "    i+=1\n",
    "plt.legend(loc=\"upper right\")\n",
    "plt.show()"
   ]
  },
  {
   "cell_type": "markdown",
   "id": "eee5d69d",
   "metadata": {},
   "source": [
    "## (b)(iii) train test data split"
   ]
  },
  {
   "cell_type": "code",
   "execution_count": 222,
   "id": "94c4b005",
   "metadata": {},
   "outputs": [
    {
     "data": {
      "text/html": [
       "<div>\n",
       "<style scoped>\n",
       "    .dataframe tbody tr th:only-of-type {\n",
       "        vertical-align: middle;\n",
       "    }\n",
       "\n",
       "    .dataframe tbody tr th {\n",
       "        vertical-align: top;\n",
       "    }\n",
       "\n",
       "    .dataframe thead th {\n",
       "        text-align: right;\n",
       "    }\n",
       "</style>\n",
       "<table border=\"1\" class=\"dataframe\">\n",
       "  <thead>\n",
       "    <tr style=\"text-align: right;\">\n",
       "      <th></th>\n",
       "      <th>PI</th>\n",
       "      <th>PT</th>\n",
       "      <th>LLA</th>\n",
       "      <th>SS</th>\n",
       "      <th>PR</th>\n",
       "      <th>GOS</th>\n",
       "      <th>class</th>\n",
       "    </tr>\n",
       "  </thead>\n",
       "  <tbody>\n",
       "    <tr>\n",
       "      <th>0</th>\n",
       "      <td>38.51</td>\n",
       "      <td>16.96</td>\n",
       "      <td>35.11</td>\n",
       "      <td>21.54</td>\n",
       "      <td>127.63</td>\n",
       "      <td>7.99</td>\n",
       "      <td>0</td>\n",
       "    </tr>\n",
       "    <tr>\n",
       "      <th>1</th>\n",
       "      <td>54.92</td>\n",
       "      <td>18.97</td>\n",
       "      <td>51.60</td>\n",
       "      <td>35.95</td>\n",
       "      <td>125.85</td>\n",
       "      <td>2.00</td>\n",
       "      <td>0</td>\n",
       "    </tr>\n",
       "    <tr>\n",
       "      <th>2</th>\n",
       "      <td>44.36</td>\n",
       "      <td>8.95</td>\n",
       "      <td>46.90</td>\n",
       "      <td>35.42</td>\n",
       "      <td>129.22</td>\n",
       "      <td>4.99</td>\n",
       "      <td>0</td>\n",
       "    </tr>\n",
       "    <tr>\n",
       "      <th>3</th>\n",
       "      <td>48.32</td>\n",
       "      <td>17.45</td>\n",
       "      <td>48.00</td>\n",
       "      <td>30.87</td>\n",
       "      <td>128.98</td>\n",
       "      <td>-0.91</td>\n",
       "      <td>0</td>\n",
       "    </tr>\n",
       "    <tr>\n",
       "      <th>4</th>\n",
       "      <td>45.70</td>\n",
       "      <td>10.66</td>\n",
       "      <td>42.58</td>\n",
       "      <td>35.04</td>\n",
       "      <td>130.18</td>\n",
       "      <td>-3.39</td>\n",
       "      <td>0</td>\n",
       "    </tr>\n",
       "    <tr>\n",
       "      <th>...</th>\n",
       "      <td>...</td>\n",
       "      <td>...</td>\n",
       "      <td>...</td>\n",
       "      <td>...</td>\n",
       "      <td>...</td>\n",
       "      <td>...</td>\n",
       "      <td>...</td>\n",
       "    </tr>\n",
       "    <tr>\n",
       "      <th>205</th>\n",
       "      <td>77.12</td>\n",
       "      <td>30.35</td>\n",
       "      <td>77.48</td>\n",
       "      <td>46.77</td>\n",
       "      <td>110.61</td>\n",
       "      <td>82.09</td>\n",
       "      <td>1</td>\n",
       "    </tr>\n",
       "    <tr>\n",
       "      <th>206</th>\n",
       "      <td>88.02</td>\n",
       "      <td>39.84</td>\n",
       "      <td>81.77</td>\n",
       "      <td>48.18</td>\n",
       "      <td>116.60</td>\n",
       "      <td>56.77</td>\n",
       "      <td>1</td>\n",
       "    </tr>\n",
       "    <tr>\n",
       "      <th>207</th>\n",
       "      <td>83.40</td>\n",
       "      <td>34.31</td>\n",
       "      <td>78.42</td>\n",
       "      <td>49.09</td>\n",
       "      <td>110.47</td>\n",
       "      <td>49.67</td>\n",
       "      <td>1</td>\n",
       "    </tr>\n",
       "    <tr>\n",
       "      <th>208</th>\n",
       "      <td>72.05</td>\n",
       "      <td>24.70</td>\n",
       "      <td>79.87</td>\n",
       "      <td>47.35</td>\n",
       "      <td>107.17</td>\n",
       "      <td>56.43</td>\n",
       "      <td>1</td>\n",
       "    </tr>\n",
       "    <tr>\n",
       "      <th>209</th>\n",
       "      <td>85.10</td>\n",
       "      <td>21.07</td>\n",
       "      <td>91.73</td>\n",
       "      <td>64.03</td>\n",
       "      <td>109.06</td>\n",
       "      <td>38.03</td>\n",
       "      <td>1</td>\n",
       "    </tr>\n",
       "  </tbody>\n",
       "</table>\n",
       "<p>210 rows × 7 columns</p>\n",
       "</div>"
      ],
      "text/plain": [
       "        PI     PT    LLA     SS      PR    GOS  class\n",
       "0    38.51  16.96  35.11  21.54  127.63   7.99      0\n",
       "1    54.92  18.97  51.60  35.95  125.85   2.00      0\n",
       "2    44.36   8.95  46.90  35.42  129.22   4.99      0\n",
       "3    48.32  17.45  48.00  30.87  128.98  -0.91      0\n",
       "4    45.70  10.66  42.58  35.04  130.18  -3.39      0\n",
       "..     ...    ...    ...    ...     ...    ...    ...\n",
       "205  77.12  30.35  77.48  46.77  110.61  82.09      1\n",
       "206  88.02  39.84  81.77  48.18  116.60  56.77      1\n",
       "207  83.40  34.31  78.42  49.09  110.47  49.67      1\n",
       "208  72.05  24.70  79.87  47.35  107.17  56.43      1\n",
       "209  85.10  21.07  91.73  64.03  109.06  38.03      1\n",
       "\n",
       "[210 rows x 7 columns]"
      ]
     },
     "execution_count": 222,
     "metadata": {},
     "output_type": "execute_result"
    }
   ],
   "source": [
    "train = pd.concat([df[df['class']==0][:70], df[df['class']==1][:140]], ignore_index=True)\n",
    "train"
   ]
  },
  {
   "cell_type": "code",
   "execution_count": 223,
   "id": "3d325399",
   "metadata": {},
   "outputs": [
    {
     "data": {
      "text/html": [
       "<div>\n",
       "<style scoped>\n",
       "    .dataframe tbody tr th:only-of-type {\n",
       "        vertical-align: middle;\n",
       "    }\n",
       "\n",
       "    .dataframe tbody tr th {\n",
       "        vertical-align: top;\n",
       "    }\n",
       "\n",
       "    .dataframe thead th {\n",
       "        text-align: right;\n",
       "    }\n",
       "</style>\n",
       "<table border=\"1\" class=\"dataframe\">\n",
       "  <thead>\n",
       "    <tr style=\"text-align: right;\">\n",
       "      <th></th>\n",
       "      <th>PI</th>\n",
       "      <th>PT</th>\n",
       "      <th>LLA</th>\n",
       "      <th>SS</th>\n",
       "      <th>PR</th>\n",
       "      <th>GOS</th>\n",
       "      <th>class</th>\n",
       "    </tr>\n",
       "  </thead>\n",
       "  <tbody>\n",
       "    <tr>\n",
       "      <th>0</th>\n",
       "      <td>50.09</td>\n",
       "      <td>13.43</td>\n",
       "      <td>34.46</td>\n",
       "      <td>36.66</td>\n",
       "      <td>119.13</td>\n",
       "      <td>3.09</td>\n",
       "      <td>0</td>\n",
       "    </tr>\n",
       "    <tr>\n",
       "      <th>1</th>\n",
       "      <td>64.26</td>\n",
       "      <td>14.50</td>\n",
       "      <td>43.90</td>\n",
       "      <td>49.76</td>\n",
       "      <td>115.39</td>\n",
       "      <td>5.95</td>\n",
       "      <td>0</td>\n",
       "    </tr>\n",
       "    <tr>\n",
       "      <th>2</th>\n",
       "      <td>53.68</td>\n",
       "      <td>13.45</td>\n",
       "      <td>41.58</td>\n",
       "      <td>40.24</td>\n",
       "      <td>113.91</td>\n",
       "      <td>2.74</td>\n",
       "      <td>0</td>\n",
       "    </tr>\n",
       "    <tr>\n",
       "      <th>3</th>\n",
       "      <td>49.00</td>\n",
       "      <td>13.11</td>\n",
       "      <td>51.87</td>\n",
       "      <td>35.88</td>\n",
       "      <td>126.40</td>\n",
       "      <td>0.54</td>\n",
       "      <td>0</td>\n",
       "    </tr>\n",
       "    <tr>\n",
       "      <th>4</th>\n",
       "      <td>59.17</td>\n",
       "      <td>14.56</td>\n",
       "      <td>43.20</td>\n",
       "      <td>44.60</td>\n",
       "      <td>121.04</td>\n",
       "      <td>2.83</td>\n",
       "      <td>0</td>\n",
       "    </tr>\n",
       "    <tr>\n",
       "      <th>...</th>\n",
       "      <td>...</td>\n",
       "      <td>...</td>\n",
       "      <td>...</td>\n",
       "      <td>...</td>\n",
       "      <td>...</td>\n",
       "      <td>...</td>\n",
       "      <td>...</td>\n",
       "    </tr>\n",
       "    <tr>\n",
       "      <th>94</th>\n",
       "      <td>80.11</td>\n",
       "      <td>33.94</td>\n",
       "      <td>85.10</td>\n",
       "      <td>46.17</td>\n",
       "      <td>125.59</td>\n",
       "      <td>100.29</td>\n",
       "      <td>1</td>\n",
       "    </tr>\n",
       "    <tr>\n",
       "      <th>95</th>\n",
       "      <td>95.48</td>\n",
       "      <td>46.55</td>\n",
       "      <td>59.00</td>\n",
       "      <td>48.93</td>\n",
       "      <td>96.68</td>\n",
       "      <td>77.28</td>\n",
       "      <td>1</td>\n",
       "    </tr>\n",
       "    <tr>\n",
       "      <th>96</th>\n",
       "      <td>74.09</td>\n",
       "      <td>18.82</td>\n",
       "      <td>76.03</td>\n",
       "      <td>55.27</td>\n",
       "      <td>128.41</td>\n",
       "      <td>73.39</td>\n",
       "      <td>1</td>\n",
       "    </tr>\n",
       "    <tr>\n",
       "      <th>97</th>\n",
       "      <td>87.68</td>\n",
       "      <td>20.37</td>\n",
       "      <td>93.82</td>\n",
       "      <td>67.31</td>\n",
       "      <td>120.94</td>\n",
       "      <td>76.73</td>\n",
       "      <td>1</td>\n",
       "    </tr>\n",
       "    <tr>\n",
       "      <th>98</th>\n",
       "      <td>48.26</td>\n",
       "      <td>16.42</td>\n",
       "      <td>36.33</td>\n",
       "      <td>31.84</td>\n",
       "      <td>94.88</td>\n",
       "      <td>28.34</td>\n",
       "      <td>1</td>\n",
       "    </tr>\n",
       "  </tbody>\n",
       "</table>\n",
       "<p>99 rows × 7 columns</p>\n",
       "</div>"
      ],
      "text/plain": [
       "       PI     PT    LLA     SS      PR     GOS  class\n",
       "0   50.09  13.43  34.46  36.66  119.13    3.09      0\n",
       "1   64.26  14.50  43.90  49.76  115.39    5.95      0\n",
       "2   53.68  13.45  41.58  40.24  113.91    2.74      0\n",
       "3   49.00  13.11  51.87  35.88  126.40    0.54      0\n",
       "4   59.17  14.56  43.20  44.60  121.04    2.83      0\n",
       "..    ...    ...    ...    ...     ...     ...    ...\n",
       "94  80.11  33.94  85.10  46.17  125.59  100.29      1\n",
       "95  95.48  46.55  59.00  48.93   96.68   77.28      1\n",
       "96  74.09  18.82  76.03  55.27  128.41   73.39      1\n",
       "97  87.68  20.37  93.82  67.31  120.94   76.73      1\n",
       "98  48.26  16.42  36.33  31.84   94.88   28.34      1\n",
       "\n",
       "[99 rows x 7 columns]"
      ]
     },
     "execution_count": 223,
     "metadata": {},
     "output_type": "execute_result"
    }
   ],
   "source": [
    "test = pd.concat([df[df['class']==0][70:], df[df['class']==1][140:]], ignore_index=True)\n",
    "test"
   ]
  },
  {
   "cell_type": "markdown",
   "id": "3ec14db1",
   "metadata": {},
   "source": [
    "## (c)(i) KNN with euclidean metric"
   ]
  },
  {
   "cell_type": "code",
   "execution_count": 262,
   "id": "0091007d",
   "metadata": {},
   "outputs": [],
   "source": [
    "def predictions_k_neigh(k, data):\n",
    "    clf = KNeighborsClassifier(n_neighbors=k, metric='euclidean')\n",
    "    clf.fit(train.iloc[:,:-1], train.iloc[:,-1:].values.ravel())\n",
    "    return clf.predict(data)"
   ]
  },
  {
   "cell_type": "markdown",
   "id": "4007d538",
   "metadata": {},
   "source": [
    "## (c)(ii) Test all the data in the test database with k nearest neighbors"
   ]
  },
  {
   "cell_type": "code",
   "execution_count": 266,
   "id": "c5f23faf",
   "metadata": {},
   "outputs": [
    {
     "data": {
      "text/html": [
       "<div>\n",
       "<style scoped>\n",
       "    .dataframe tbody tr th:only-of-type {\n",
       "        vertical-align: middle;\n",
       "    }\n",
       "\n",
       "    .dataframe tbody tr th {\n",
       "        vertical-align: top;\n",
       "    }\n",
       "\n",
       "    .dataframe thead th {\n",
       "        text-align: right;\n",
       "    }\n",
       "</style>\n",
       "<table border=\"1\" class=\"dataframe\">\n",
       "  <thead>\n",
       "    <tr style=\"text-align: right;\">\n",
       "      <th></th>\n",
       "      <th>error</th>\n",
       "      <th>type</th>\n",
       "      <th>k_neigh</th>\n",
       "    </tr>\n",
       "  </thead>\n",
       "  <tbody>\n",
       "    <tr>\n",
       "      <th>0</th>\n",
       "      <td>0.333333</td>\n",
       "      <td>train</td>\n",
       "      <td>208.0</td>\n",
       "    </tr>\n",
       "    <tr>\n",
       "      <th>1</th>\n",
       "      <td>0.303030</td>\n",
       "      <td>test</td>\n",
       "      <td>208.0</td>\n",
       "    </tr>\n",
       "    <tr>\n",
       "      <th>2</th>\n",
       "      <td>0.333333</td>\n",
       "      <td>train</td>\n",
       "      <td>205.0</td>\n",
       "    </tr>\n",
       "    <tr>\n",
       "      <th>3</th>\n",
       "      <td>0.303030</td>\n",
       "      <td>test</td>\n",
       "      <td>205.0</td>\n",
       "    </tr>\n",
       "    <tr>\n",
       "      <th>4</th>\n",
       "      <td>0.333333</td>\n",
       "      <td>train</td>\n",
       "      <td>202.0</td>\n",
       "    </tr>\n",
       "    <tr>\n",
       "      <th>...</th>\n",
       "      <td>...</td>\n",
       "      <td>...</td>\n",
       "      <td>...</td>\n",
       "    </tr>\n",
       "    <tr>\n",
       "      <th>135</th>\n",
       "      <td>0.121212</td>\n",
       "      <td>test</td>\n",
       "      <td>7.0</td>\n",
       "    </tr>\n",
       "    <tr>\n",
       "      <th>136</th>\n",
       "      <td>0.142857</td>\n",
       "      <td>train</td>\n",
       "      <td>4.0</td>\n",
       "    </tr>\n",
       "    <tr>\n",
       "      <th>137</th>\n",
       "      <td>0.060606</td>\n",
       "      <td>test</td>\n",
       "      <td>4.0</td>\n",
       "    </tr>\n",
       "    <tr>\n",
       "      <th>138</th>\n",
       "      <td>0.000000</td>\n",
       "      <td>train</td>\n",
       "      <td>1.0</td>\n",
       "    </tr>\n",
       "    <tr>\n",
       "      <th>139</th>\n",
       "      <td>0.131313</td>\n",
       "      <td>test</td>\n",
       "      <td>1.0</td>\n",
       "    </tr>\n",
       "  </tbody>\n",
       "</table>\n",
       "<p>140 rows × 3 columns</p>\n",
       "</div>"
      ],
      "text/plain": [
       "        error   type  k_neigh\n",
       "0    0.333333  train    208.0\n",
       "1    0.303030   test    208.0\n",
       "2    0.333333  train    205.0\n",
       "3    0.303030   test    205.0\n",
       "4    0.333333  train    202.0\n",
       "..        ...    ...      ...\n",
       "135  0.121212   test      7.0\n",
       "136  0.142857  train      4.0\n",
       "137  0.060606   test      4.0\n",
       "138  0.000000  train      1.0\n",
       "139  0.131313   test      1.0\n",
       "\n",
       "[140 rows x 3 columns]"
      ]
     },
     "execution_count": 266,
     "metadata": {},
     "output_type": "execute_result"
    }
   ],
   "source": [
    "errors = pd.DataFrame({'error':[],'type':[],'k_neigh':[]})\n",
    "for i in range(208,-1,-3):\n",
    "    train_error = 1-accuracy_score(train.iloc[:,-1:], predictions_k_neigh(i, train.iloc[:,:-1]))\n",
    "    test_error = 1-accuracy_score(test.iloc[:,-1:], predictions_k_neigh(i, test.iloc[:,:-1]))\n",
    "    k_neigh = int(i)\n",
    "    errors=pd.concat([errors, pd.DataFrame({'error':[train_error],'type':['train'],'k_neigh':[k_neigh]})], ignore_index=True)\n",
    "    errors=pd.concat([errors, pd.DataFrame({'error':[test_error],'type':['test'],'k_neigh':[k_neigh]})], ignore_index=True)\n",
    "errors\n",
    "    "
   ]
  },
  {
   "cell_type": "code",
   "execution_count": 267,
   "id": "8e8ade57",
   "metadata": {},
   "outputs": [
    {
     "data": {
      "text/plain": [
       "<AxesSubplot:xlabel='k_neigh', ylabel='error'>"
      ]
     },
     "execution_count": 267,
     "metadata": {},
     "output_type": "execute_result"
    },
    {
     "data": {
      "image/png": "[encoded data removed]",
      "text/plain": [
       "<Figure size 432x288 with 1 Axes>"
      ]
     },
     "metadata": {
      "needs_background": "light"
     },
     "output_type": "display_data"
    }
   ],
   "source": [
    "sns.lineplot(data=errors, y='error', x='k_neigh', hue='type')"
   ]
  },
  {
   "cell_type": "markdown",
   "id": "46bc3430",
   "metadata": {},
   "source": [
    "k*=4 gives the smallest test error along with a reasonable train error"
   ]
  },
  {
   "cell_type": "code",
   "execution_count": 269,
   "id": "631dd944",
   "metadata": {},
   "outputs": [],
   "source": [
    "predictions_4_neigh = predictions_k_neigh(i, test.iloc[:,:-1])"
   ]
  },
  {
   "cell_type": "code",
   "execution_count": 279,
   "id": "aad434e6",
   "metadata": {},
   "outputs": [
    {
     "data": {
      "text/plain": [
       "array([[20, 10],\n",
       "       [ 3, 66]], dtype=int64)"
      ]
     },
     "execution_count": 279,
     "metadata": {},
     "output_type": "execute_result"
    }
   ],
   "source": [
    "conf_matrix = confusion_matrix(test.iloc[:,-1:],predictions_4_neigh)\n",
    "conf_matrix"
   ]
  },
  {
   "cell_type": "code",
   "execution_count": 284,
   "id": "b699b335",
   "metadata": {},
   "outputs": [
    {
     "name": "stdout",
     "output_type": "stream",
     "text": [
      "              precision    recall  f1-score   support\n",
      "\n",
      "           0       0.87      0.67      0.75        30\n",
      "           1       0.87      0.96      0.91        69\n",
      "\n",
      "    accuracy                           0.87        99\n",
      "   macro avg       0.87      0.81      0.83        99\n",
      "weighted avg       0.87      0.87      0.86        99\n",
      "\n"
     ]
    }
   ],
   "source": [
    "print(classification_report(test.iloc[:,-1:],predictions_4_neigh))"
   ]
  },
  {
   "cell_type": "markdown",
   "id": "16b42609",
   "metadata": {},
   "source": [
    "PRECISION = 0.87\n",
    "\n",
    "F1_SCORE = 0.91\n",
    "\n",
    "TRUE POSITIVE RATE/SENSITIVITY = 0.96\n",
    "\n",
    "TRUE NEGATIVE RATE/SPECIFICITY = 0.67"
   ]
  },
  {
   "cell_type": "markdown",
   "id": "8525db17",
   "metadata": {},
   "source": [
    "## (c)(iii) Plot the best test error rate"
   ]
  },
  {
   "cell_type": "code",
   "execution_count": 293,
   "id": "609acf4c",
   "metadata": {},
   "outputs": [
    {
     "data": {
      "text/html": [
       "<div>\n",
       "<style scoped>\n",
       "    .dataframe tbody tr th:only-of-type {\n",
       "        vertical-align: middle;\n",
       "    }\n",
       "\n",
       "    .dataframe tbody tr th {\n",
       "        vertical-align: top;\n",
       "    }\n",
       "\n",
       "    .dataframe thead th {\n",
       "        text-align: right;\n",
       "    }\n",
       "</style>\n",
       "<table border=\"1\" class=\"dataframe\">\n",
       "  <thead>\n",
       "    <tr style=\"text-align: right;\">\n",
       "      <th></th>\n",
       "      <th>test_error</th>\n",
       "      <th>best_k</th>\n",
       "      <th>N</th>\n",
       "    </tr>\n",
       "  </thead>\n",
       "  <tbody>\n",
       "    <tr>\n",
       "      <th>0</th>\n",
       "      <td>0.242424</td>\n",
       "      <td>1.0</td>\n",
       "      <td>10.0</td>\n",
       "    </tr>\n",
       "    <tr>\n",
       "      <th>1</th>\n",
       "      <td>0.222222</td>\n",
       "      <td>1.0</td>\n",
       "      <td>20.0</td>\n",
       "    </tr>\n",
       "    <tr>\n",
       "      <th>2</th>\n",
       "      <td>0.202020</td>\n",
       "      <td>7.0</td>\n",
       "      <td>30.0</td>\n",
       "    </tr>\n",
       "    <tr>\n",
       "      <th>3</th>\n",
       "      <td>0.252525</td>\n",
       "      <td>13.0</td>\n",
       "      <td>40.0</td>\n",
       "    </tr>\n",
       "    <tr>\n",
       "      <th>4</th>\n",
       "      <td>0.292929</td>\n",
       "      <td>19.0</td>\n",
       "      <td>50.0</td>\n",
       "    </tr>\n",
       "    <tr>\n",
       "      <th>5</th>\n",
       "      <td>0.292929</td>\n",
       "      <td>22.0</td>\n",
       "      <td>60.0</td>\n",
       "    </tr>\n",
       "    <tr>\n",
       "      <th>6</th>\n",
       "      <td>0.282828</td>\n",
       "      <td>25.0</td>\n",
       "      <td>70.0</td>\n",
       "    </tr>\n",
       "    <tr>\n",
       "      <th>7</th>\n",
       "      <td>0.292929</td>\n",
       "      <td>25.0</td>\n",
       "      <td>80.0</td>\n",
       "    </tr>\n",
       "    <tr>\n",
       "      <th>8</th>\n",
       "      <td>0.292929</td>\n",
       "      <td>43.0</td>\n",
       "      <td>90.0</td>\n",
       "    </tr>\n",
       "    <tr>\n",
       "      <th>9</th>\n",
       "      <td>0.222222</td>\n",
       "      <td>4.0</td>\n",
       "      <td>100.0</td>\n",
       "    </tr>\n",
       "    <tr>\n",
       "      <th>10</th>\n",
       "      <td>0.161616</td>\n",
       "      <td>4.0</td>\n",
       "      <td>110.0</td>\n",
       "    </tr>\n",
       "    <tr>\n",
       "      <th>11</th>\n",
       "      <td>0.141414</td>\n",
       "      <td>4.0</td>\n",
       "      <td>120.0</td>\n",
       "    </tr>\n",
       "    <tr>\n",
       "      <th>12</th>\n",
       "      <td>0.141414</td>\n",
       "      <td>4.0</td>\n",
       "      <td>130.0</td>\n",
       "    </tr>\n",
       "    <tr>\n",
       "      <th>13</th>\n",
       "      <td>0.151515</td>\n",
       "      <td>4.0</td>\n",
       "      <td>140.0</td>\n",
       "    </tr>\n",
       "    <tr>\n",
       "      <th>14</th>\n",
       "      <td>0.131313</td>\n",
       "      <td>4.0</td>\n",
       "      <td>150.0</td>\n",
       "    </tr>\n",
       "    <tr>\n",
       "      <th>15</th>\n",
       "      <td>0.111111</td>\n",
       "      <td>4.0</td>\n",
       "      <td>160.0</td>\n",
       "    </tr>\n",
       "    <tr>\n",
       "      <th>16</th>\n",
       "      <td>0.090909</td>\n",
       "      <td>4.0</td>\n",
       "      <td>170.0</td>\n",
       "    </tr>\n",
       "    <tr>\n",
       "      <th>17</th>\n",
       "      <td>0.080808</td>\n",
       "      <td>4.0</td>\n",
       "      <td>180.0</td>\n",
       "    </tr>\n",
       "    <tr>\n",
       "      <th>18</th>\n",
       "      <td>0.070707</td>\n",
       "      <td>4.0</td>\n",
       "      <td>190.0</td>\n",
       "    </tr>\n",
       "    <tr>\n",
       "      <th>19</th>\n",
       "      <td>0.070707</td>\n",
       "      <td>4.0</td>\n",
       "      <td>200.0</td>\n",
       "    </tr>\n",
       "    <tr>\n",
       "      <th>20</th>\n",
       "      <td>0.060606</td>\n",
       "      <td>4.0</td>\n",
       "      <td>210.0</td>\n",
       "    </tr>\n",
       "  </tbody>\n",
       "</table>\n",
       "</div>"
      ],
      "text/plain": [
       "    test_error  best_k      N\n",
       "0     0.242424     1.0   10.0\n",
       "1     0.222222     1.0   20.0\n",
       "2     0.202020     7.0   30.0\n",
       "3     0.252525    13.0   40.0\n",
       "4     0.292929    19.0   50.0\n",
       "5     0.292929    22.0   60.0\n",
       "6     0.282828    25.0   70.0\n",
       "7     0.292929    25.0   80.0\n",
       "8     0.292929    43.0   90.0\n",
       "9     0.222222     4.0  100.0\n",
       "10    0.161616     4.0  110.0\n",
       "11    0.141414     4.0  120.0\n",
       "12    0.141414     4.0  130.0\n",
       "13    0.151515     4.0  140.0\n",
       "14    0.131313     4.0  150.0\n",
       "15    0.111111     4.0  160.0\n",
       "16    0.090909     4.0  170.0\n",
       "17    0.080808     4.0  180.0\n",
       "18    0.070707     4.0  190.0\n",
       "19    0.070707     4.0  200.0\n",
       "20    0.060606     4.0  210.0"
      ]
     },
     "execution_count": 293,
     "metadata": {},
     "output_type": "execute_result"
    }
   ],
   "source": [
    "best_test_error = pd.DataFrame({'test_error':[],'best_k':[],'N':[]})\n",
    "for N in range(10,220,10):\n",
    "    min_error = float('inf')\n",
    "    cur_n = N//3\n",
    "    cur_best_k = 0\n",
    "    cur_train = pd.concat([train[train['class']==0][:cur_n], df[df['class']==1][:(N-cur_n)]], ignore_index=True)\n",
    "    for k in range(1,N,3):\n",
    "        clf = KNeighborsClassifier(n_neighbors=k, metric='euclidean')\n",
    "        clf.fit(cur_train.iloc[:,:-1], cur_train.iloc[:,-1:].values.ravel())\n",
    "        error = 1-accuracy_score(test.iloc[:,-1:], clf.predict(test.iloc[:,:-1]))\n",
    "        #print(error)\n",
    "        if min_error>error:\n",
    "            min_error=error\n",
    "            cur_best_k = k\n",
    "    best_test_error=pd.concat([best_test_error, pd.DataFrame({'test_error':[min_error],'best_k':[cur_best_k],'N':[N]})], ignore_index=True)\n",
    "    \n",
    "best_test_error\n"
   ]
  },
  {
   "cell_type": "code",
   "execution_count": 295,
   "id": "aad70467",
   "metadata": {},
   "outputs": [
    {
     "data": {
      "text/plain": [
       "<AxesSubplot:xlabel='N', ylabel='test_error'>"
      ]
     },
     "execution_count": 295,
     "metadata": {},
     "output_type": "execute_result"
    },
    {
     "data": {
      "image/png": "[encoded data removed]",
      "text/plain": [
       "<Figure size 432x288 with 1 Axes>"
      ]
     },
     "metadata": {
      "needs_background": "light"
     },
     "output_type": "display_data"
    }
   ],
   "source": [
    "sns.lineplot(data=best_test_error, x='N', y='test_error')"
   ]
  },
  {
   "cell_type": "markdown",
   "id": "12024009",
   "metadata": {},
   "source": [
    "## (d)"
   ]
  }
 ],
 "metadata": {
  "kernelspec": {
   "display_name": "Python 3",
   "language": "python",
   "name": "python3"
  },
  "language_info": {
   "codemirror_mode": {
    "name": "ipython",
    "version": 3
   },
   "file_extension": ".py",
   "mimetype": "text/x-python",
   "name": "python",
   "nbconvert_exporter": "python",
   "pygments_lexer": "ipython3",
   "version": "3.8.8"
  }
 },
 "nbformat": 4,
 "nbformat_minor": 5
}
